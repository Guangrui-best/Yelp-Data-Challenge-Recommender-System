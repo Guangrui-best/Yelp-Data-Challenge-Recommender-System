{
 "cells": [
  {
   "cell_type": "markdown",
   "metadata": {},
   "source": [
    "# Yelp Data Challenge"
   ]
  },
  {
   "cell_type": "markdown",
   "metadata": {},
   "source": [
    "The Yelp Data Challenge can be found [Yelp Dataset Challenge](https://www.yelp.com/dataset_challenge).\n",
    "<img src=\"./test/yelp_download.png\">\n",
    "\n",
    "Download JSON. 3.85GB of `yelp_dataset.rar`, and unrar to get 8.65GB of `yelp_dataset` folder."
   ]
  },
  {
   "cell_type": "markdown",
   "metadata": {},
   "source": [
    "In the folder, there are six `.json` files:\n",
    "\n",
    "    business.json - 138MB\n",
    "    checkin.json - 408MB\n",
    "    photo.json - 25.7MB\n",
    "    review.json - 5.35GB\n",
    "    tip.json - 244.5MB\n",
    "    user.json - 2.49GB\n",
    "\n",
    "Note that each file is composed of a single object type, one json-object per-line. We used `business` and `review` dataset. We can take a look at some examples on [GitHub](https://github.com/Yelp/dataset-examples) to get us started. Here is a json record in business file and review file.\n",
    "\n",
    "**business.json**\n",
    "```Json\n",
    "{\n",
    "  \"business_id\": \"1SWheh84yJXfytovILXOAQ\",\n",
    "  \"name\": \"Arizona Biltmore Golf Club\",\n",
    "  \"address\": \"2818 E Camino Acequia Drive\",\n",
    "  \"city\": \"Phoenix\",\n",
    "  \"state\": \"AZ\",\n",
    "  \"postal_code\": \"85016\",\n",
    "  \"latitude\": 33.5221425,\n",
    "  \"longitude\": -112.0184807,\n",
    "  \"stars\": 3.0,\n",
    "  \"review_count\": 5,\n",
    "  \"is_open\": 0,\n",
    "  \"attributes\": {\n",
    "    \"GoodForKids\": \"False\"\n",
    "  },\n",
    "  \"categories\": \"Golf, Active Life\",\n",
    "  \"hours\": null\n",
    "}\n",
    "```\n",
    "\n",
    "**review.json**\n",
    "```Json\n",
    "{\n",
    "  \"review_id\": \"Q1sbwvVQXV2734tPgoKj4Q\",\n",
    "  \"user_id\": \"hG7b0MtEbXx5QzbzE6C_VA\",\n",
    "  \"business_id\": \"ujmEBvifdJM6h6RLv4wQIg\",\n",
    "  \"stars\": 1.0,\n",
    "  \"useful\": 6,\n",
    "  \"funny\": 1,\n",
    "  \"cool\": 0,\n",
    "  \"text\": \"Total bill for this horrible service? Over $8Gs. These crooks actually had the nerve to charge us $69 for 3 pills. I checked online the pills can be had for 19 cents EACH! Avoid Hospital ERs at all costs.\",\n",
    "  \"date\": \"2013-05-07 04:34:36\"\n",
    "}\n",
    "```\n"
   ]
  },
  {
   "cell_type": "markdown",
   "metadata": {},
   "source": [
    "# Process Business Data"
   ]
  },
  {
   "cell_type": "markdown",
   "metadata": {},
   "source": [
    "First, process business dataset. Use `json.load` to read json data format. Then read it into `pandas.DataFrame`. We filtered the instances with **city contains Las Vegas** and **categories contains Restaurants**. At last, we only keep useful columns, such as **business_id**, **name**, **categories** and **stars**."
   ]
  },
  {
   "cell_type": "markdown",
   "metadata": {},
   "source": [
    "## Read Dataset"
   ]
  },
  {
   "cell_type": "code",
   "execution_count": 1,
   "metadata": {},
   "outputs": [],
   "source": [
    "import json\n",
    "import pandas as pd\n",
    "\n",
    "# read dataset into DataFrame\n",
    "with open('E:/GitHub/DS701-1904/data/yelp_dataset/business.json', encoding = 'utf-8') as f:\n",
    "    df_business = pd.DataFrame(json.loads(line) for line in f)"
   ]
  },
  {
   "cell_type": "code",
   "execution_count": 2,
   "metadata": {},
   "outputs": [
    {
     "data": {
      "text/html": [
       "<div>\n",
       "<style scoped>\n",
       "    .dataframe tbody tr th:only-of-type {\n",
       "        vertical-align: middle;\n",
       "    }\n",
       "\n",
       "    .dataframe tbody tr th {\n",
       "        vertical-align: top;\n",
       "    }\n",
       "\n",
       "    .dataframe thead th {\n",
       "        text-align: right;\n",
       "    }\n",
       "</style>\n",
       "<table border=\"1\" class=\"dataframe\">\n",
       "  <thead>\n",
       "    <tr style=\"text-align: right;\">\n",
       "      <th></th>\n",
       "      <th>address</th>\n",
       "      <th>attributes</th>\n",
       "      <th>business_id</th>\n",
       "      <th>categories</th>\n",
       "      <th>city</th>\n",
       "      <th>hours</th>\n",
       "      <th>is_open</th>\n",
       "      <th>latitude</th>\n",
       "      <th>longitude</th>\n",
       "      <th>name</th>\n",
       "      <th>postal_code</th>\n",
       "      <th>review_count</th>\n",
       "      <th>stars</th>\n",
       "      <th>state</th>\n",
       "    </tr>\n",
       "  </thead>\n",
       "  <tbody>\n",
       "    <tr>\n",
       "      <th>0</th>\n",
       "      <td>2818 E Camino Acequia Drive</td>\n",
       "      <td>{'GoodForKids': 'False'}</td>\n",
       "      <td>1SWheh84yJXfytovILXOAQ</td>\n",
       "      <td>Golf, Active Life</td>\n",
       "      <td>Phoenix</td>\n",
       "      <td>None</td>\n",
       "      <td>0</td>\n",
       "      <td>33.522143</td>\n",
       "      <td>-112.018481</td>\n",
       "      <td>Arizona Biltmore Golf Club</td>\n",
       "      <td>85016</td>\n",
       "      <td>5</td>\n",
       "      <td>3.0</td>\n",
       "      <td>AZ</td>\n",
       "    </tr>\n",
       "    <tr>\n",
       "      <th>1</th>\n",
       "      <td>30 Eglinton Avenue W</td>\n",
       "      <td>{'RestaurantsReservations': 'True', 'GoodForMe...</td>\n",
       "      <td>QXAEGFB4oINsVuTFxEYKFQ</td>\n",
       "      <td>Specialty Food, Restaurants, Dim Sum, Imported...</td>\n",
       "      <td>Mississauga</td>\n",
       "      <td>{'Monday': '9:0-0:0', 'Tuesday': '9:0-0:0', 'W...</td>\n",
       "      <td>1</td>\n",
       "      <td>43.605499</td>\n",
       "      <td>-79.652289</td>\n",
       "      <td>Emerald Chinese Restaurant</td>\n",
       "      <td>L5R 3E7</td>\n",
       "      <td>128</td>\n",
       "      <td>2.5</td>\n",
       "      <td>ON</td>\n",
       "    </tr>\n",
       "    <tr>\n",
       "      <th>2</th>\n",
       "      <td>10110 Johnston Rd, Ste 15</td>\n",
       "      <td>{'GoodForKids': 'True', 'NoiseLevel': 'u'avera...</td>\n",
       "      <td>gnKjwL_1w79qoiV3IC_xQQ</td>\n",
       "      <td>Sushi Bars, Restaurants, Japanese</td>\n",
       "      <td>Charlotte</td>\n",
       "      <td>{'Monday': '17:30-21:30', 'Wednesday': '17:30-...</td>\n",
       "      <td>1</td>\n",
       "      <td>35.092564</td>\n",
       "      <td>-80.859132</td>\n",
       "      <td>Musashi Japanese Restaurant</td>\n",
       "      <td>28210</td>\n",
       "      <td>170</td>\n",
       "      <td>4.0</td>\n",
       "      <td>NC</td>\n",
       "    </tr>\n",
       "    <tr>\n",
       "      <th>3</th>\n",
       "      <td>15655 W Roosevelt St, Ste 237</td>\n",
       "      <td>None</td>\n",
       "      <td>xvX2CttrVhyG2z1dFg_0xw</td>\n",
       "      <td>Insurance, Financial Services</td>\n",
       "      <td>Goodyear</td>\n",
       "      <td>{'Monday': '8:0-17:0', 'Tuesday': '8:0-17:0', ...</td>\n",
       "      <td>1</td>\n",
       "      <td>33.455613</td>\n",
       "      <td>-112.395596</td>\n",
       "      <td>Farmers Insurance - Paul Lorenz</td>\n",
       "      <td>85338</td>\n",
       "      <td>3</td>\n",
       "      <td>5.0</td>\n",
       "      <td>AZ</td>\n",
       "    </tr>\n",
       "    <tr>\n",
       "      <th>4</th>\n",
       "      <td>4209 Stuart Andrew Blvd, Ste F</td>\n",
       "      <td>{'BusinessAcceptsBitcoin': 'False', 'ByAppoint...</td>\n",
       "      <td>HhyxOkGAM07SRYtlQ4wMFQ</td>\n",
       "      <td>Plumbing, Shopping, Local Services, Home Servi...</td>\n",
       "      <td>Charlotte</td>\n",
       "      <td>{'Monday': '7:0-23:0', 'Tuesday': '7:0-23:0', ...</td>\n",
       "      <td>1</td>\n",
       "      <td>35.190012</td>\n",
       "      <td>-80.887223</td>\n",
       "      <td>Queen City Plumbing</td>\n",
       "      <td>28217</td>\n",
       "      <td>4</td>\n",
       "      <td>4.0</td>\n",
       "      <td>NC</td>\n",
       "    </tr>\n",
       "  </tbody>\n",
       "</table>\n",
       "</div>"
      ],
      "text/plain": [
       "                          address  \\\n",
       "0     2818 E Camino Acequia Drive   \n",
       "1            30 Eglinton Avenue W   \n",
       "2       10110 Johnston Rd, Ste 15   \n",
       "3   15655 W Roosevelt St, Ste 237   \n",
       "4  4209 Stuart Andrew Blvd, Ste F   \n",
       "\n",
       "                                          attributes             business_id  \\\n",
       "0                           {'GoodForKids': 'False'}  1SWheh84yJXfytovILXOAQ   \n",
       "1  {'RestaurantsReservations': 'True', 'GoodForMe...  QXAEGFB4oINsVuTFxEYKFQ   \n",
       "2  {'GoodForKids': 'True', 'NoiseLevel': 'u'avera...  gnKjwL_1w79qoiV3IC_xQQ   \n",
       "3                                               None  xvX2CttrVhyG2z1dFg_0xw   \n",
       "4  {'BusinessAcceptsBitcoin': 'False', 'ByAppoint...  HhyxOkGAM07SRYtlQ4wMFQ   \n",
       "\n",
       "                                          categories         city  \\\n",
       "0                                  Golf, Active Life      Phoenix   \n",
       "1  Specialty Food, Restaurants, Dim Sum, Imported...  Mississauga   \n",
       "2                  Sushi Bars, Restaurants, Japanese    Charlotte   \n",
       "3                      Insurance, Financial Services     Goodyear   \n",
       "4  Plumbing, Shopping, Local Services, Home Servi...    Charlotte   \n",
       "\n",
       "                                               hours  is_open   latitude  \\\n",
       "0                                               None        0  33.522143   \n",
       "1  {'Monday': '9:0-0:0', 'Tuesday': '9:0-0:0', 'W...        1  43.605499   \n",
       "2  {'Monday': '17:30-21:30', 'Wednesday': '17:30-...        1  35.092564   \n",
       "3  {'Monday': '8:0-17:0', 'Tuesday': '8:0-17:0', ...        1  33.455613   \n",
       "4  {'Monday': '7:0-23:0', 'Tuesday': '7:0-23:0', ...        1  35.190012   \n",
       "\n",
       "    longitude                             name postal_code  review_count  \\\n",
       "0 -112.018481       Arizona Biltmore Golf Club       85016             5   \n",
       "1  -79.652289       Emerald Chinese Restaurant     L5R 3E7           128   \n",
       "2  -80.859132      Musashi Japanese Restaurant       28210           170   \n",
       "3 -112.395596  Farmers Insurance - Paul Lorenz       85338             3   \n",
       "4  -80.887223              Queen City Plumbing       28217             4   \n",
       "\n",
       "   stars state  \n",
       "0    3.0    AZ  \n",
       "1    2.5    ON  \n",
       "2    4.0    NC  \n",
       "3    5.0    AZ  \n",
       "4    4.0    NC  "
      ]
     },
     "execution_count": 2,
     "metadata": {},
     "output_type": "execute_result"
    }
   ],
   "source": [
    "df_business.head()"
   ]
  },
  {
   "cell_type": "code",
   "execution_count": 3,
   "metadata": {},
   "outputs": [
    {
     "data": {
      "text/plain": [
       "(192609, 14)"
      ]
     },
     "execution_count": 3,
     "metadata": {},
     "output_type": "execute_result"
    }
   ],
   "source": [
    "df_business.shape"
   ]
  },
  {
   "cell_type": "markdown",
   "metadata": {},
   "source": [
    "## Filter by city and categories"
   ]
  },
  {
   "cell_type": "markdown",
   "metadata": {},
   "source": [
    "We get 192609 business entities in dataset. Some of them are restaurants, some are not. We focus on the Las Vegas restaurants in Yelp. Thus, creat some filters, of which the business \n",
    "* is located in \"Las Vegas\"\n",
    "* has no null category value\n",
    "* contains \"Restaurants\" in their category"
   ]
  },
  {
   "cell_type": "code",
   "execution_count": 33,
   "metadata": {},
   "outputs": [],
   "source": [
    "# create Pandas DataFrame filters\n",
    "\n",
    "# city, check if it contains \"Las Vegas\"\n",
    "filter_city = df_business['city'].apply(str).str.contains(\"Las Vegas\")\n",
    "\n",
    "# categories, check if it is null\n",
    "filter_category_not_null = ~df_business[\"categories\"].isnull()\n",
    "\n",
    "# categories, check if it contains \"Restaurants\"\n",
    "filter_category_restaurant = df_business[\"categories\"].apply(str).str.contains(\"Restaurants\")\n",
    "\n",
    "# filter DataFrame, and name it df_filtered\n",
    "df_filtered = df_business[filter_city & filter_category_not_null & filter_category_restaurant]"
   ]
  },
  {
   "cell_type": "code",
   "execution_count": 36,
   "metadata": {},
   "outputs": [
    {
     "data": {
      "text/html": [
       "<div>\n",
       "<style scoped>\n",
       "    .dataframe tbody tr th:only-of-type {\n",
       "        vertical-align: middle;\n",
       "    }\n",
       "\n",
       "    .dataframe tbody tr th {\n",
       "        vertical-align: top;\n",
       "    }\n",
       "\n",
       "    .dataframe thead th {\n",
       "        text-align: right;\n",
       "    }\n",
       "</style>\n",
       "<table border=\"1\" class=\"dataframe\">\n",
       "  <thead>\n",
       "    <tr style=\"text-align: right;\">\n",
       "      <th></th>\n",
       "      <th>address</th>\n",
       "      <th>attributes</th>\n",
       "      <th>business_id</th>\n",
       "      <th>categories</th>\n",
       "      <th>city</th>\n",
       "      <th>hours</th>\n",
       "      <th>is_open</th>\n",
       "      <th>latitude</th>\n",
       "      <th>longitude</th>\n",
       "      <th>name</th>\n",
       "      <th>postal_code</th>\n",
       "      <th>review_count</th>\n",
       "      <th>stars</th>\n",
       "      <th>state</th>\n",
       "    </tr>\n",
       "  </thead>\n",
       "  <tbody>\n",
       "    <tr>\n",
       "      <th>17</th>\n",
       "      <td>1775 E Tropicana Ave, Ste 29</td>\n",
       "      <td>{'OutdoorSeating': 'False', 'BusinessAcceptsCr...</td>\n",
       "      <td>PZ-LZzSlhSe9utkQYU8pFg</td>\n",
       "      <td>Restaurants, Italian</td>\n",
       "      <td>Las Vegas</td>\n",
       "      <td>None</td>\n",
       "      <td>0</td>\n",
       "      <td>36.100016</td>\n",
       "      <td>-115.128529</td>\n",
       "      <td>Carluccio's Tivoli Gardens</td>\n",
       "      <td>89119</td>\n",
       "      <td>40</td>\n",
       "      <td>4.0</td>\n",
       "      <td>NV</td>\n",
       "    </tr>\n",
       "    <tr>\n",
       "      <th>25</th>\n",
       "      <td>6055 E Lake Mead Blvd</td>\n",
       "      <td>{'BikeParking': 'True', 'BusinessParking': '{'...</td>\n",
       "      <td>tstimHoMcYbkSC4eBA1wEg</td>\n",
       "      <td>Mexican, Restaurants, Patisserie/Cake Shop, Fo...</td>\n",
       "      <td>Las Vegas</td>\n",
       "      <td>{'Monday': '11:0-21:0', 'Tuesday': '10:0-21:0'...</td>\n",
       "      <td>1</td>\n",
       "      <td>36.195615</td>\n",
       "      <td>-115.040529</td>\n",
       "      <td>Maria's Mexican Restaurant &amp; Bakery</td>\n",
       "      <td>89156</td>\n",
       "      <td>184</td>\n",
       "      <td>4.5</td>\n",
       "      <td>NV</td>\n",
       "    </tr>\n",
       "    <tr>\n",
       "      <th>75</th>\n",
       "      <td>6125 Spring Mountain Rd</td>\n",
       "      <td>{'RestaurantsPriceRange2': '1', 'Ambience': '{...</td>\n",
       "      <td>kANF0dbeoW34s2vwh6Umfw</td>\n",
       "      <td>Fast Food, Food, Restaurants, Ice Cream &amp; Froz...</td>\n",
       "      <td>Las Vegas</td>\n",
       "      <td>None</td>\n",
       "      <td>0</td>\n",
       "      <td>36.125031</td>\n",
       "      <td>-115.225620</td>\n",
       "      <td>Dairy Queen</td>\n",
       "      <td>89146</td>\n",
       "      <td>33</td>\n",
       "      <td>2.0</td>\n",
       "      <td>NV</td>\n",
       "    </tr>\n",
       "    <tr>\n",
       "      <th>111</th>\n",
       "      <td>4343 N Rancho Dr</td>\n",
       "      <td>None</td>\n",
       "      <td>X8mtoSxY8whtmbDlj0D3Aw</td>\n",
       "      <td>Restaurants, Chinese</td>\n",
       "      <td>Las Vegas</td>\n",
       "      <td>None</td>\n",
       "      <td>1</td>\n",
       "      <td>36.238596</td>\n",
       "      <td>-115.233331</td>\n",
       "      <td>Imperial Asian Buffet</td>\n",
       "      <td>89030</td>\n",
       "      <td>4</td>\n",
       "      <td>2.0</td>\n",
       "      <td>NV</td>\n",
       "    </tr>\n",
       "    <tr>\n",
       "      <th>135</th>\n",
       "      <td>Artisan Hotel, 1501 W Sahara Ave</td>\n",
       "      <td>{'RestaurantsAttire': ''dressy'', 'Corkage': '...</td>\n",
       "      <td>bJP4l_BGq2CudEu0m-wNjg</td>\n",
       "      <td>Restaurants, Pizza, Italian, American (New)</td>\n",
       "      <td>Las Vegas</td>\n",
       "      <td>{'Monday': '16:0-0:0', 'Tuesday': '16:0-0:0', ...</td>\n",
       "      <td>0</td>\n",
       "      <td>36.143672</td>\n",
       "      <td>-115.169792</td>\n",
       "      <td>Artisan Fine Dining Room</td>\n",
       "      <td>89102</td>\n",
       "      <td>3</td>\n",
       "      <td>2.0</td>\n",
       "      <td>NV</td>\n",
       "    </tr>\n",
       "  </tbody>\n",
       "</table>\n",
       "</div>"
      ],
      "text/plain": [
       "                              address  \\\n",
       "17       1775 E Tropicana Ave, Ste 29   \n",
       "25              6055 E Lake Mead Blvd   \n",
       "75            6125 Spring Mountain Rd   \n",
       "111                  4343 N Rancho Dr   \n",
       "135  Artisan Hotel, 1501 W Sahara Ave   \n",
       "\n",
       "                                            attributes  \\\n",
       "17   {'OutdoorSeating': 'False', 'BusinessAcceptsCr...   \n",
       "25   {'BikeParking': 'True', 'BusinessParking': '{'...   \n",
       "75   {'RestaurantsPriceRange2': '1', 'Ambience': '{...   \n",
       "111                                               None   \n",
       "135  {'RestaurantsAttire': ''dressy'', 'Corkage': '...   \n",
       "\n",
       "                business_id  \\\n",
       "17   PZ-LZzSlhSe9utkQYU8pFg   \n",
       "25   tstimHoMcYbkSC4eBA1wEg   \n",
       "75   kANF0dbeoW34s2vwh6Umfw   \n",
       "111  X8mtoSxY8whtmbDlj0D3Aw   \n",
       "135  bJP4l_BGq2CudEu0m-wNjg   \n",
       "\n",
       "                                            categories       city  \\\n",
       "17                                Restaurants, Italian  Las Vegas   \n",
       "25   Mexican, Restaurants, Patisserie/Cake Shop, Fo...  Las Vegas   \n",
       "75   Fast Food, Food, Restaurants, Ice Cream & Froz...  Las Vegas   \n",
       "111                               Restaurants, Chinese  Las Vegas   \n",
       "135        Restaurants, Pizza, Italian, American (New)  Las Vegas   \n",
       "\n",
       "                                                 hours  is_open   latitude  \\\n",
       "17                                                None        0  36.100016   \n",
       "25   {'Monday': '11:0-21:0', 'Tuesday': '10:0-21:0'...        1  36.195615   \n",
       "75                                                None        0  36.125031   \n",
       "111                                               None        1  36.238596   \n",
       "135  {'Monday': '16:0-0:0', 'Tuesday': '16:0-0:0', ...        0  36.143672   \n",
       "\n",
       "      longitude                                 name postal_code  \\\n",
       "17  -115.128529           Carluccio's Tivoli Gardens       89119   \n",
       "25  -115.040529  Maria's Mexican Restaurant & Bakery       89156   \n",
       "75  -115.225620                          Dairy Queen       89146   \n",
       "111 -115.233331                Imperial Asian Buffet       89030   \n",
       "135 -115.169792             Artisan Fine Dining Room       89102   \n",
       "\n",
       "     review_count  stars state  \n",
       "17             40    4.0    NV  \n",
       "25            184    4.5    NV  \n",
       "75             33    2.0    NV  \n",
       "111             4    2.0    NV  \n",
       "135             3    2.0    NV  "
      ]
     },
     "execution_count": 36,
     "metadata": {},
     "output_type": "execute_result"
    }
   ],
   "source": [
    "df_filtered.head()"
   ]
  },
  {
   "cell_type": "code",
   "execution_count": 37,
   "metadata": {},
   "outputs": [
    {
     "data": {
      "text/plain": [
       "(6812, 14)"
      ]
     },
     "execution_count": 37,
     "metadata": {},
     "output_type": "execute_result"
    }
   ],
   "source": [
    "df_filtered.shape # now we get 6812 records "
   ]
  },
  {
   "cell_type": "markdown",
   "metadata": {},
   "source": [
    "## Keep relevant columns"
   ]
  },
  {
   "cell_type": "markdown",
   "metadata": {},
   "source": [
    "There are only a few columns that are useful.\n",
    "* business_id\n",
    "* name\n",
    "* categories\n",
    "* stars\n",
    "\n",
    "We make a DataFrame that contains only the above mentioned columns, and name it as `df_selected_business`. In order to avoid naming conflicts with review dataset, we rename the column \"stars\" to \"avg_stars\"."
   ]
  },
  {
   "cell_type": "code",
   "execution_count": 41,
   "metadata": {},
   "outputs": [],
   "source": [
    "# filter\n",
    "df_selected_business = df_filtered[['business_id', 'name', 'categories', 'stars']]\n",
    "\n",
    "# Rename\n",
    "df_selected_business.rename(columns={\"stars\":\"avg_stars\"}, inplace=True)"
   ]
  },
  {
   "cell_type": "code",
   "execution_count": 42,
   "metadata": {},
   "outputs": [
    {
     "data": {
      "text/html": [
       "<div>\n",
       "<style scoped>\n",
       "    .dataframe tbody tr th:only-of-type {\n",
       "        vertical-align: middle;\n",
       "    }\n",
       "\n",
       "    .dataframe tbody tr th {\n",
       "        vertical-align: top;\n",
       "    }\n",
       "\n",
       "    .dataframe thead th {\n",
       "        text-align: right;\n",
       "    }\n",
       "</style>\n",
       "<table border=\"1\" class=\"dataframe\">\n",
       "  <thead>\n",
       "    <tr style=\"text-align: right;\">\n",
       "      <th></th>\n",
       "      <th>business_id</th>\n",
       "      <th>name</th>\n",
       "      <th>categories</th>\n",
       "      <th>avg_stars</th>\n",
       "    </tr>\n",
       "  </thead>\n",
       "  <tbody>\n",
       "    <tr>\n",
       "      <th>17</th>\n",
       "      <td>PZ-LZzSlhSe9utkQYU8pFg</td>\n",
       "      <td>Carluccio's Tivoli Gardens</td>\n",
       "      <td>Restaurants, Italian</td>\n",
       "      <td>4.0</td>\n",
       "    </tr>\n",
       "    <tr>\n",
       "      <th>25</th>\n",
       "      <td>tstimHoMcYbkSC4eBA1wEg</td>\n",
       "      <td>Maria's Mexican Restaurant &amp; Bakery</td>\n",
       "      <td>Mexican, Restaurants, Patisserie/Cake Shop, Fo...</td>\n",
       "      <td>4.5</td>\n",
       "    </tr>\n",
       "    <tr>\n",
       "      <th>75</th>\n",
       "      <td>kANF0dbeoW34s2vwh6Umfw</td>\n",
       "      <td>Dairy Queen</td>\n",
       "      <td>Fast Food, Food, Restaurants, Ice Cream &amp; Froz...</td>\n",
       "      <td>2.0</td>\n",
       "    </tr>\n",
       "    <tr>\n",
       "      <th>111</th>\n",
       "      <td>X8mtoSxY8whtmbDlj0D3Aw</td>\n",
       "      <td>Imperial Asian Buffet</td>\n",
       "      <td>Restaurants, Chinese</td>\n",
       "      <td>2.0</td>\n",
       "    </tr>\n",
       "    <tr>\n",
       "      <th>135</th>\n",
       "      <td>bJP4l_BGq2CudEu0m-wNjg</td>\n",
       "      <td>Artisan Fine Dining Room</td>\n",
       "      <td>Restaurants, Pizza, Italian, American (New)</td>\n",
       "      <td>2.0</td>\n",
       "    </tr>\n",
       "  </tbody>\n",
       "</table>\n",
       "</div>"
      ],
      "text/plain": [
       "                business_id                                 name  \\\n",
       "17   PZ-LZzSlhSe9utkQYU8pFg           Carluccio's Tivoli Gardens   \n",
       "25   tstimHoMcYbkSC4eBA1wEg  Maria's Mexican Restaurant & Bakery   \n",
       "75   kANF0dbeoW34s2vwh6Umfw                          Dairy Queen   \n",
       "111  X8mtoSxY8whtmbDlj0D3Aw                Imperial Asian Buffet   \n",
       "135  bJP4l_BGq2CudEu0m-wNjg             Artisan Fine Dining Room   \n",
       "\n",
       "                                            categories  avg_stars  \n",
       "17                                Restaurants, Italian        4.0  \n",
       "25   Mexican, Restaurants, Patisserie/Cake Shop, Fo...        4.5  \n",
       "75   Fast Food, Food, Restaurants, Ice Cream & Froz...        2.0  \n",
       "111                               Restaurants, Chinese        2.0  \n",
       "135        Restaurants, Pizza, Italian, American (New)        2.0  "
      ]
     },
     "execution_count": 42,
     "metadata": {},
     "output_type": "execute_result"
    }
   ],
   "source": [
    "df_selected_business.head()"
   ]
  },
  {
   "cell_type": "markdown",
   "metadata": {},
   "source": [
    "## Save Results"
   ]
  },
  {
   "cell_type": "markdown",
   "metadata": {},
   "source": [
    "Save the results to csv file, in case we need to reuse it in other notebooks."
   ]
  },
  {
   "cell_type": "code",
   "execution_count": 46,
   "metadata": {},
   "outputs": [],
   "source": [
    "# Save to your data folder for the next task\n",
    "df_selected_business.to_csv(\"E:/GitHub/DS701-1904/data/selected_business.csv\", index=False, encoding=\"utf-8\")"
   ]
  },
  {
   "cell_type": "code",
   "execution_count": 19,
   "metadata": {},
   "outputs": [],
   "source": [
    "# # Try reload the csv file to check if everything works fine\n",
    "# pd.read_csv(\"../data/selected_business.csv\", encoding=\"utf-8\").head()"
   ]
  },
  {
   "cell_type": "markdown",
   "metadata": {},
   "source": [
    "# Process Review Data"
   ]
  },
  {
   "cell_type": "markdown",
   "metadata": {},
   "source": [
    "We make a DataFrame that contains and only contains the reviews about the business entities we just obtained.\n",
    "\n",
    "**WARNING:** It is 5 GB review dataset. "
   ]
  },
  {
   "cell_type": "markdown",
   "metadata": {},
   "source": [
    "## Read Dataset"
   ]
  },
  {
   "cell_type": "code",
   "execution_count": 49,
   "metadata": {},
   "outputs": [],
   "source": [
    "# Warning!!! 5GB review data\n",
    "#with open('E:/GitHub/DS701-1904/data/yelp_dataset/review.json', encoding='utf-8') as f:\n",
    "    #df_review = pd.DataFrame(json.loads(line) for line in f)"
   ]
  },
  {
   "cell_type": "code",
   "execution_count": 50,
   "metadata": {},
   "outputs": [
    {
     "data": {
      "text/plain": [
       "(6685900, 9)"
      ]
     },
     "execution_count": 50,
     "metadata": {},
     "output_type": "execute_result"
    }
   ],
   "source": [
    "df_review.shape"
   ]
  },
  {
   "cell_type": "code",
   "execution_count": 51,
   "metadata": {},
   "outputs": [],
   "source": [
    "df_review_copy = df_review.copy()"
   ]
  },
  {
   "cell_type": "markdown",
   "metadata": {},
   "source": [
    "## Join on business_id"
   ]
  },
  {
   "cell_type": "markdown",
   "metadata": {},
   "source": [
    "We only keep reviews from last 1 years (it is better to perform filter before join operation),\n",
    "* Otherwise your laptop may crush on memory when running machine learning algorithms\n",
    "* Purposefully ignoring the reviews made too long time ago\n",
    "\n",
    "To implement this join operation, we should \n",
    "* Prepare the business dataframe and set index to column \"business_id\", and name it as df_left\n",
    "* Prepare the review dataframe and set index to column \"business_id\", and name it as df_right\n",
    "* Also filter date after '2018-02-01'\n",
    "* Inner join left and right table"
   ]
  },
  {
   "cell_type": "code",
   "execution_count": 52,
   "metadata": {},
   "outputs": [],
   "source": [
    "# left table\n",
    "df_left = df_selected_business.set_index('business_id')\n",
    "# right table\n",
    "df_review = df_review[df_review['date']>'2018-02-01'].set_index('business_id')\n",
    "# inner join df_left and df_right\n",
    "df_final = df_left.join(df_review,how='inner')\n",
    "# reset the index \n",
    "df_final = df_final.reset_index()"
   ]
  },
  {
   "cell_type": "code",
   "execution_count": 53,
   "metadata": {},
   "outputs": [
    {
     "data": {
      "text/plain": [
       "(193487, 12)"
      ]
     },
     "execution_count": 53,
     "metadata": {},
     "output_type": "execute_result"
    }
   ],
   "source": [
    "df_final.shape"
   ]
  },
  {
   "cell_type": "markdown",
   "metadata": {},
   "source": [
    "## Save Final Results"
   ]
  },
  {
   "cell_type": "code",
   "execution_count": 55,
   "metadata": {},
   "outputs": [],
   "source": [
    "# Save to data/last_1_years_restaurant_reviews.csv for the next task\n",
    "df_final.to_csv('E:/GitHub/DS701-1904/data/last_1_years_restaurant_reviews.csv',index=False)"
   ]
  }
 ],
 "metadata": {
  "anaconda-cloud": {},
  "kernelspec": {
   "display_name": "Python 3",
   "language": "python",
   "name": "python3"
  },
  "language_info": {
   "codemirror_mode": {
    "name": "ipython",
    "version": 3
   },
   "file_extension": ".py",
   "mimetype": "text/x-python",
   "name": "python",
   "nbconvert_exporter": "python",
   "pygments_lexer": "ipython3",
   "version": "3.7.3"
  },
  "toc": {
   "base_numbering": 1,
   "nav_menu": {},
   "number_sections": true,
   "sideBar": true,
   "skip_h1_title": false,
   "title_cell": "Table of Contents",
   "title_sidebar": "Contents",
   "toc_cell": false,
   "toc_position": {
    "height": "calc(100% - 180px)",
    "left": "10px",
    "top": "150px",
    "width": "234.391px"
   },
   "toc_section_display": true,
   "toc_window_display": true
  }
 },
 "nbformat": 4,
 "nbformat_minor": 1
}
